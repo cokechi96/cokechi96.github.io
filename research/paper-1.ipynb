{
  "cells": [
    {
      "cell_type": "raw",
      "metadata": {},
      "source": [
        "---\n",
        "title: \"Do RTAs Kill the Trade-Creation Effects of Migration? An analysis of the European Economic Area (EEA) Agreement \"\n",
        "author: \n",
        "  - Chidubem Okechi\n",
        "cv:\n",
        "  pdf: \"Okechi_Chidubem_IntlTrade_Final_Paper_v2.pdf\"\n",
        "---"
      ],
      "id": "a80b3137"
    },
    {
      "cell_type": "markdown",
      "metadata": {},
      "source": [
        "This paper examines this distortion in the case of the European Economic Area (EEA) agreement which came into force in 1994. Using data on bilateral export, immigration and emigration for ten of the pioneering countries between 1980 and 2006, I find that although immigration does have an export-creation effect, the EEA agreement makes immigration export-hindering. This agreement does not, however, seem to have any impact on the export-creation effect of emigration.\n",
        "\n",
        "\n",
        "```{css, echo=FALSE}\n",
        "#title-block-header .description {\n",
        "    display: none;\n",
        "}\n",
        "```\n",
        "\n",
        "```{css echo=FALSE}\n",
        ".embed-container {\n",
        "    position: relative;\n",
        "    padding-bottom: 129%;\n",
        "    height: 0;\n",
        "    overflow: hidden;\n",
        "    max-width: 100%;\n",
        "}\n",
        "\n",
        ".embed-container iframe,\n",
        ".embed-container object,\n",
        ".embed-container embed {\n",
        "    position: absolute;\n",
        "    top: 0;\n",
        "    left: 0;\n",
        "    width: 100%;\n",
        "    height: 100%;\n",
        "}\n",
        "```"
      ],
      "id": "6a926a58"
    }
  ],
  "metadata": {
    "kernelspec": {
      "display_name": "Python 3",
      "language": "python",
      "name": "python3"
    }
  },
  "nbformat": 4,
  "nbformat_minor": 5
}